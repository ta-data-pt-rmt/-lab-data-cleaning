{
 "cells": [
  {
   "cell_type": "markdown",
   "metadata": {},
   "source": [
    "#### 1. Import pandas library"
   ]
  },
  {
   "cell_type": "code",
   "execution_count": 1,
   "metadata": {},
   "outputs": [],
   "source": [
    "import pandas as pd"
   ]
  },
  {
   "cell_type": "markdown",
   "metadata": {},
   "source": [
    "#### 2. Import users table:"
   ]
  },
  {
   "cell_type": "code",
   "execution_count": 16,
   "metadata": {},
   "outputs": [
    {
     "name": "stdout",
     "output_type": "stream",
     "text": [
      "   Id  Reputation         CreationDate   DisplayName       LastAccessDate  \\\n",
      "0  -1           1  2010-07-19 06:55:26     Community  2010-07-19 06:55:26   \n",
      "1   2         101  2010-07-19 14:01:36  Geoff Dalgas  2013-11-12 22:07:23   \n",
      "2   3         101  2010-07-19 15:34:50  Jarrod Dixon  2014-08-08 06:42:58   \n",
      "3   4         101  2010-07-19 19:03:27        Emmett  2014-01-02 09:31:02   \n",
      "4   5        6792  2010-07-19 19:03:57         Shane  2014-08-13 00:23:47   \n",
      "\n",
      "                       WebsiteUrl            Location  \\\n",
      "0  http://meta.stackexchange.com/  on the server farm   \n",
      "1        http://stackoverflow.com       Corvallis, OR   \n",
      "2        http://stackoverflow.com        New York, NY   \n",
      "3    http://minesweeperonline.com   San Francisco, CA   \n",
      "4         http://www.statalgo.com        New York, NY   \n",
      "\n",
      "                                             AboutMe  Views  UpVotes  \\\n",
      "0  <p>Hi, I'm not really a person.</p>\\r\\n\\r\\n<p>...      0     5007   \n",
      "1  <p>Developer on the StackOverflow team.  Find ...     25        3   \n",
      "2  <p><a href=\"http://blog.stackoverflow.com/2009...     22       19   \n",
      "3  <p>currently at a startup in SF</p>\\r\\n\\r\\n<p>...     11        0   \n",
      "4  <p>Quantitative researcher focusing on statist...   1145      662   \n",
      "\n",
      "   DownVotes  AccountId   Age                     ProfileImageUrl  \n",
      "0       1920         -1   NaN                                 NaN  \n",
      "1          0          2  37.0                                 NaN  \n",
      "2          0          3  35.0                                 NaN  \n",
      "3          0       1998  28.0  http://i.stack.imgur.com/d1oHX.jpg  \n",
      "4          5      54503  35.0                                 NaN  \n"
     ]
    }
   ],
   "source": [
    "users_table = pd.read_csv(\"users_table.csv\")\n",
    "print(users_table.head())"
   ]
  },
  {
   "cell_type": "markdown",
   "metadata": {},
   "source": [
    "#### 3. Rename Id column to userId"
   ]
  },
  {
   "cell_type": "code",
   "execution_count": 43,
   "metadata": {},
   "outputs": [
    {
     "name": "stdout",
     "output_type": "stream",
     "text": [
      "       userId  Reputation  DownVotes  UpVotes  Views\n",
      "0          -1           1       1920     5007      0\n",
      "1           2         101          0        3     25\n",
      "2           3         101          0       19     22\n",
      "3           4         101          0        0     11\n",
      "4           5        6792          5      662   1145\n",
      "...       ...         ...        ...      ...    ...\n",
      "40320   55743           1          0        0      0\n",
      "40321   55744           6          0        0      1\n",
      "40322   55745         101          0        0      0\n",
      "40323   55746         106          0        0      1\n",
      "40324   55747           1          0        0      0\n",
      "\n",
      "[40325 rows x 5 columns]\n"
     ]
    }
   ],
   "source": [
    "users_table = users_table.rename(columns={\"Id\": \"userId\"})\n",
    "print(users_table)"
   ]
  },
  {
   "cell_type": "markdown",
   "metadata": {},
   "source": [
    "#### 4. Import posts table:"
   ]
  },
  {
   "cell_type": "code",
   "execution_count": 4,
   "metadata": {},
   "outputs": [],
   "source": [
    "posts_table = pd.read_csv(\"posts_table.csv\")\n"
   ]
  },
  {
   "cell_type": "markdown",
   "metadata": {},
   "source": [
    "#### 5. Rename Id column to postId and OwnerUserId to userId"
   ]
  },
  {
   "cell_type": "code",
   "execution_count": 18,
   "metadata": {},
   "outputs": [
    {
     "name": "stdout",
     "output_type": "stream",
     "text": [
      "        userId  Score  ViewCount  CommentCount  postId\n",
      "0          8.0     23     1278.0             1       1\n",
      "1         24.0     22     8198.0             1       2\n",
      "2         18.0     54     3613.0             4       3\n",
      "3         23.0     13     5224.0             2       4\n",
      "4         23.0     81        NaN             3       5\n",
      "...        ...    ...        ...           ...     ...\n",
      "39995  19966.0      0        NaN             0   48321\n",
      "39996    892.0      3        NaN             2   48322\n",
      "39997   2020.0      1        NaN             0   48323\n",
      "39998  19914.0      3        NaN             0   48324\n",
      "39999  19968.0     -1      116.0             4   48325\n",
      "\n",
      "[40000 rows x 5 columns]\n",
      "   userId  Reputation         CreationDate   DisplayName       LastAccessDate  \\\n",
      "0      -1           1  2010-07-19 06:55:26     Community  2010-07-19 06:55:26   \n",
      "1       2         101  2010-07-19 14:01:36  Geoff Dalgas  2013-11-12 22:07:23   \n",
      "2       3         101  2010-07-19 15:34:50  Jarrod Dixon  2014-08-08 06:42:58   \n",
      "3       4         101  2010-07-19 19:03:27        Emmett  2014-01-02 09:31:02   \n",
      "4       5        6792  2010-07-19 19:03:57         Shane  2014-08-13 00:23:47   \n",
      "\n",
      "                       WebsiteUrl            Location  \\\n",
      "0  http://meta.stackexchange.com/  on the server farm   \n",
      "1        http://stackoverflow.com       Corvallis, OR   \n",
      "2        http://stackoverflow.com        New York, NY   \n",
      "3    http://minesweeperonline.com   San Francisco, CA   \n",
      "4         http://www.statalgo.com        New York, NY   \n",
      "\n",
      "                                             AboutMe  Views  UpVotes  \\\n",
      "0  <p>Hi, I'm not really a person.</p>\\r\\n\\r\\n<p>...      0     5007   \n",
      "1  <p>Developer on the StackOverflow team.  Find ...     25        3   \n",
      "2  <p><a href=\"http://blog.stackoverflow.com/2009...     22       19   \n",
      "3  <p>currently at a startup in SF</p>\\r\\n\\r\\n<p>...     11        0   \n",
      "4  <p>Quantitative researcher focusing on statist...   1145      662   \n",
      "\n",
      "   DownVotes  AccountId   Age                     ProfileImageUrl  \n",
      "0       1920         -1   NaN                                 NaN  \n",
      "1          0          2  37.0                                 NaN  \n",
      "2          0          3  35.0                                 NaN  \n",
      "3          0       1998  28.0  http://i.stack.imgur.com/d1oHX.jpg  \n",
      "4          5      54503  35.0                                 NaN  \n"
     ]
    }
   ],
   "source": [
    "posts_table = posts_table.rename(columns={\"Id\": \"postId\", \"OwnerUserId\": \"userId\"})\n",
    "print(posts_table)\n",
    "print(users_table.head())"
   ]
  },
  {
   "cell_type": "markdown",
   "metadata": {},
   "source": [
    "#### 6. Define new dataframes for users and posts with the following selected columns:\n",
    "    **users columns**: userId, Reputation,Views,UpVotes,DownVotes\n",
    "    **posts columns**: postId, Score,userId,ViewCount,CommentCount"
   ]
  },
  {
   "cell_type": "code",
   "execution_count": 25,
   "metadata": {},
   "outputs": [
    {
     "name": "stdout",
     "output_type": "stream",
     "text": [
      "   userId  Reputation  DownVotes  UpVotes  Views\n",
      "0      -1           1       1920     5007      0\n",
      "1       2         101          0        3     25\n",
      "   userId  Score  ViewCount  CommentCount  postId\n",
      "0     8.0     23     1278.0             1       1\n",
      "1    24.0     22     8198.0             1       2\n"
     ]
    }
   ],
   "source": [
    "users_table = pd.DataFrame(users_table, columns={\"userId\", \"Reputation\", \"Views\", \"UpVotes\", \"DownVotes\"})\n",
    "print(users_table.head(2))\n",
    "posts_table = pd.DataFrame(posts_table, columns={\"postId\", \"Score\", \"userId\", \"ViewCount\", \"CommentCount\"})\n",
    "print(posts_table.head(2))"
   ]
  },
  {
   "cell_type": "markdown",
   "metadata": {},
   "source": [
    "#### 7. Merge both dataframes, users and posts. \n",
    "You will need to make a [merge](https://pandas.pydata.org/pandas-docs/stable/generated/pandas.DataFrame.merge.html) of posts and users dataframes.\n"
   ]
  },
  {
   "cell_type": "code",
   "execution_count": 26,
   "metadata": {},
   "outputs": [
    {
     "data": {
      "text/html": [
       "<div>\n",
       "<style scoped>\n",
       "    .dataframe tbody tr th:only-of-type {\n",
       "        vertical-align: middle;\n",
       "    }\n",
       "\n",
       "    .dataframe tbody tr th {\n",
       "        vertical-align: top;\n",
       "    }\n",
       "\n",
       "    .dataframe thead th {\n",
       "        text-align: right;\n",
       "    }\n",
       "</style>\n",
       "<table border=\"1\" class=\"dataframe\">\n",
       "  <thead>\n",
       "    <tr style=\"text-align: right;\">\n",
       "      <th></th>\n",
       "      <th>userId</th>\n",
       "      <th>Reputation</th>\n",
       "      <th>DownVotes</th>\n",
       "      <th>UpVotes</th>\n",
       "      <th>Views</th>\n",
       "      <th>Score</th>\n",
       "      <th>ViewCount</th>\n",
       "      <th>CommentCount</th>\n",
       "      <th>postId</th>\n",
       "    </tr>\n",
       "  </thead>\n",
       "  <tbody>\n",
       "    <tr>\n",
       "      <th>0</th>\n",
       "      <td>-1</td>\n",
       "      <td>1</td>\n",
       "      <td>1920</td>\n",
       "      <td>5007</td>\n",
       "      <td>0</td>\n",
       "      <td>0</td>\n",
       "      <td>NaN</td>\n",
       "      <td>0</td>\n",
       "      <td>2175</td>\n",
       "    </tr>\n",
       "    <tr>\n",
       "      <th>1</th>\n",
       "      <td>-1</td>\n",
       "      <td>1</td>\n",
       "      <td>1920</td>\n",
       "      <td>5007</td>\n",
       "      <td>0</td>\n",
       "      <td>0</td>\n",
       "      <td>NaN</td>\n",
       "      <td>0</td>\n",
       "      <td>8576</td>\n",
       "    </tr>\n",
       "    <tr>\n",
       "      <th>2</th>\n",
       "      <td>-1</td>\n",
       "      <td>1</td>\n",
       "      <td>1920</td>\n",
       "      <td>5007</td>\n",
       "      <td>0</td>\n",
       "      <td>0</td>\n",
       "      <td>NaN</td>\n",
       "      <td>0</td>\n",
       "      <td>8578</td>\n",
       "    </tr>\n",
       "    <tr>\n",
       "      <th>3</th>\n",
       "      <td>-1</td>\n",
       "      <td>1</td>\n",
       "      <td>1920</td>\n",
       "      <td>5007</td>\n",
       "      <td>0</td>\n",
       "      <td>0</td>\n",
       "      <td>NaN</td>\n",
       "      <td>0</td>\n",
       "      <td>8981</td>\n",
       "    </tr>\n",
       "    <tr>\n",
       "      <th>4</th>\n",
       "      <td>-1</td>\n",
       "      <td>1</td>\n",
       "      <td>1920</td>\n",
       "      <td>5007</td>\n",
       "      <td>0</td>\n",
       "      <td>0</td>\n",
       "      <td>NaN</td>\n",
       "      <td>0</td>\n",
       "      <td>8982</td>\n",
       "    </tr>\n",
       "    <tr>\n",
       "      <th>...</th>\n",
       "      <td>...</td>\n",
       "      <td>...</td>\n",
       "      <td>...</td>\n",
       "      <td>...</td>\n",
       "      <td>...</td>\n",
       "      <td>...</td>\n",
       "      <td>...</td>\n",
       "      <td>...</td>\n",
       "      <td>...</td>\n",
       "    </tr>\n",
       "    <tr>\n",
       "      <th>38957</th>\n",
       "      <td>45934</td>\n",
       "      <td>11</td>\n",
       "      <td>0</td>\n",
       "      <td>0</td>\n",
       "      <td>1</td>\n",
       "      <td>1</td>\n",
       "      <td>115.0</td>\n",
       "      <td>2</td>\n",
       "      <td>34003</td>\n",
       "    </tr>\n",
       "    <tr>\n",
       "      <th>38958</th>\n",
       "      <td>46192</td>\n",
       "      <td>36</td>\n",
       "      <td>0</td>\n",
       "      <td>0</td>\n",
       "      <td>1</td>\n",
       "      <td>5</td>\n",
       "      <td>326.0</td>\n",
       "      <td>2</td>\n",
       "      <td>40667</td>\n",
       "    </tr>\n",
       "    <tr>\n",
       "      <th>38959</th>\n",
       "      <td>46522</td>\n",
       "      <td>235</td>\n",
       "      <td>1</td>\n",
       "      <td>27</td>\n",
       "      <td>13</td>\n",
       "      <td>3</td>\n",
       "      <td>166.0</td>\n",
       "      <td>0</td>\n",
       "      <td>17461</td>\n",
       "    </tr>\n",
       "    <tr>\n",
       "      <th>38960</th>\n",
       "      <td>52371</td>\n",
       "      <td>221</td>\n",
       "      <td>0</td>\n",
       "      <td>0</td>\n",
       "      <td>2</td>\n",
       "      <td>24</td>\n",
       "      <td>3357.0</td>\n",
       "      <td>5</td>\n",
       "      <td>27237</td>\n",
       "    </tr>\n",
       "    <tr>\n",
       "      <th>38961</th>\n",
       "      <td>55226</td>\n",
       "      <td>119</td>\n",
       "      <td>0</td>\n",
       "      <td>3</td>\n",
       "      <td>2</td>\n",
       "      <td>1</td>\n",
       "      <td>NaN</td>\n",
       "      <td>0</td>\n",
       "      <td>16176</td>\n",
       "    </tr>\n",
       "  </tbody>\n",
       "</table>\n",
       "<p>38962 rows × 9 columns</p>\n",
       "</div>"
      ],
      "text/plain": [
       "       userId  Reputation  DownVotes  UpVotes  Views  Score  ViewCount  \\\n",
       "0          -1           1       1920     5007      0      0        NaN   \n",
       "1          -1           1       1920     5007      0      0        NaN   \n",
       "2          -1           1       1920     5007      0      0        NaN   \n",
       "3          -1           1       1920     5007      0      0        NaN   \n",
       "4          -1           1       1920     5007      0      0        NaN   \n",
       "...       ...         ...        ...      ...    ...    ...        ...   \n",
       "38957   45934          11          0        0      1      1      115.0   \n",
       "38958   46192          36          0        0      1      5      326.0   \n",
       "38959   46522         235          1       27     13      3      166.0   \n",
       "38960   52371         221          0        0      2     24     3357.0   \n",
       "38961   55226         119          0        3      2      1        NaN   \n",
       "\n",
       "       CommentCount  postId  \n",
       "0                 0    2175  \n",
       "1                 0    8576  \n",
       "2                 0    8578  \n",
       "3                 0    8981  \n",
       "4                 0    8982  \n",
       "...             ...     ...  \n",
       "38957             2   34003  \n",
       "38958             2   40667  \n",
       "38959             0   17461  \n",
       "38960             5   27237  \n",
       "38961             0   16176  \n",
       "\n",
       "[38962 rows x 9 columns]"
      ]
     },
     "execution_count": 26,
     "metadata": {},
     "output_type": "execute_result"
    }
   ],
   "source": [
    "merged_tables = pd.merge( users_table, posts_table, on=[\"userId\", \"userId\"])\n",
    "merged_tables"
   ]
  },
  {
   "cell_type": "markdown",
   "metadata": {},
   "source": [
    "#### 8. How many missing values do you have in your merged dataframe? On which columns?"
   ]
  },
  {
   "cell_type": "code",
   "execution_count": 27,
   "metadata": {
    "scrolled": true
   },
   "outputs": [
    {
     "name": "stdout",
     "output_type": "stream",
     "text": [
      "userId              0\n",
      "Reputation          0\n",
      "DownVotes           0\n",
      "UpVotes             0\n",
      "Views               0\n",
      "Score               0\n",
      "ViewCount       23572\n",
      "CommentCount        0\n",
      "postId              0\n",
      "dtype: int64\n"
     ]
    }
   ],
   "source": [
    "merged_tables_isnull = merged_tables.isnull().sum()\n",
    "print(merged_tables_isnull)"
   ]
  },
  {
   "cell_type": "markdown",
   "metadata": {},
   "source": [
    "#### 9. You will need to make something with missing values.  Will you clean or filling them? Explain. \n",
    "**Remember** to check the results of your code before passing to the next step"
   ]
  },
  {
   "cell_type": "code",
   "execution_count": 28,
   "metadata": {},
   "outputs": [
    {
     "data": {
      "text/html": [
       "<div>\n",
       "<style scoped>\n",
       "    .dataframe tbody tr th:only-of-type {\n",
       "        vertical-align: middle;\n",
       "    }\n",
       "\n",
       "    .dataframe tbody tr th {\n",
       "        vertical-align: top;\n",
       "    }\n",
       "\n",
       "    .dataframe thead th {\n",
       "        text-align: right;\n",
       "    }\n",
       "</style>\n",
       "<table border=\"1\" class=\"dataframe\">\n",
       "  <thead>\n",
       "    <tr style=\"text-align: right;\">\n",
       "      <th></th>\n",
       "      <th>userId</th>\n",
       "      <th>Reputation</th>\n",
       "      <th>DownVotes</th>\n",
       "      <th>UpVotes</th>\n",
       "      <th>Views</th>\n",
       "      <th>Score</th>\n",
       "      <th>CommentCount</th>\n",
       "      <th>postId</th>\n",
       "    </tr>\n",
       "  </thead>\n",
       "  <tbody>\n",
       "    <tr>\n",
       "      <th>0</th>\n",
       "      <td>-1</td>\n",
       "      <td>1</td>\n",
       "      <td>1920</td>\n",
       "      <td>5007</td>\n",
       "      <td>0</td>\n",
       "      <td>0</td>\n",
       "      <td>0</td>\n",
       "      <td>2175</td>\n",
       "    </tr>\n",
       "    <tr>\n",
       "      <th>1</th>\n",
       "      <td>-1</td>\n",
       "      <td>1</td>\n",
       "      <td>1920</td>\n",
       "      <td>5007</td>\n",
       "      <td>0</td>\n",
       "      <td>0</td>\n",
       "      <td>0</td>\n",
       "      <td>8576</td>\n",
       "    </tr>\n",
       "    <tr>\n",
       "      <th>2</th>\n",
       "      <td>-1</td>\n",
       "      <td>1</td>\n",
       "      <td>1920</td>\n",
       "      <td>5007</td>\n",
       "      <td>0</td>\n",
       "      <td>0</td>\n",
       "      <td>0</td>\n",
       "      <td>8578</td>\n",
       "    </tr>\n",
       "    <tr>\n",
       "      <th>3</th>\n",
       "      <td>-1</td>\n",
       "      <td>1</td>\n",
       "      <td>1920</td>\n",
       "      <td>5007</td>\n",
       "      <td>0</td>\n",
       "      <td>0</td>\n",
       "      <td>0</td>\n",
       "      <td>8981</td>\n",
       "    </tr>\n",
       "    <tr>\n",
       "      <th>4</th>\n",
       "      <td>-1</td>\n",
       "      <td>1</td>\n",
       "      <td>1920</td>\n",
       "      <td>5007</td>\n",
       "      <td>0</td>\n",
       "      <td>0</td>\n",
       "      <td>0</td>\n",
       "      <td>8982</td>\n",
       "    </tr>\n",
       "    <tr>\n",
       "      <th>...</th>\n",
       "      <td>...</td>\n",
       "      <td>...</td>\n",
       "      <td>...</td>\n",
       "      <td>...</td>\n",
       "      <td>...</td>\n",
       "      <td>...</td>\n",
       "      <td>...</td>\n",
       "      <td>...</td>\n",
       "    </tr>\n",
       "    <tr>\n",
       "      <th>38957</th>\n",
       "      <td>45934</td>\n",
       "      <td>11</td>\n",
       "      <td>0</td>\n",
       "      <td>0</td>\n",
       "      <td>1</td>\n",
       "      <td>1</td>\n",
       "      <td>2</td>\n",
       "      <td>34003</td>\n",
       "    </tr>\n",
       "    <tr>\n",
       "      <th>38958</th>\n",
       "      <td>46192</td>\n",
       "      <td>36</td>\n",
       "      <td>0</td>\n",
       "      <td>0</td>\n",
       "      <td>1</td>\n",
       "      <td>5</td>\n",
       "      <td>2</td>\n",
       "      <td>40667</td>\n",
       "    </tr>\n",
       "    <tr>\n",
       "      <th>38959</th>\n",
       "      <td>46522</td>\n",
       "      <td>235</td>\n",
       "      <td>1</td>\n",
       "      <td>27</td>\n",
       "      <td>13</td>\n",
       "      <td>3</td>\n",
       "      <td>0</td>\n",
       "      <td>17461</td>\n",
       "    </tr>\n",
       "    <tr>\n",
       "      <th>38960</th>\n",
       "      <td>52371</td>\n",
       "      <td>221</td>\n",
       "      <td>0</td>\n",
       "      <td>0</td>\n",
       "      <td>2</td>\n",
       "      <td>24</td>\n",
       "      <td>5</td>\n",
       "      <td>27237</td>\n",
       "    </tr>\n",
       "    <tr>\n",
       "      <th>38961</th>\n",
       "      <td>55226</td>\n",
       "      <td>119</td>\n",
       "      <td>0</td>\n",
       "      <td>3</td>\n",
       "      <td>2</td>\n",
       "      <td>1</td>\n",
       "      <td>0</td>\n",
       "      <td>16176</td>\n",
       "    </tr>\n",
       "  </tbody>\n",
       "</table>\n",
       "<p>38962 rows × 8 columns</p>\n",
       "</div>"
      ],
      "text/plain": [
       "       userId  Reputation  DownVotes  UpVotes  Views  Score  CommentCount  \\\n",
       "0          -1           1       1920     5007      0      0             0   \n",
       "1          -1           1       1920     5007      0      0             0   \n",
       "2          -1           1       1920     5007      0      0             0   \n",
       "3          -1           1       1920     5007      0      0             0   \n",
       "4          -1           1       1920     5007      0      0             0   \n",
       "...       ...         ...        ...      ...    ...    ...           ...   \n",
       "38957   45934          11          0        0      1      1             2   \n",
       "38958   46192          36          0        0      1      5             2   \n",
       "38959   46522         235          1       27     13      3             0   \n",
       "38960   52371         221          0        0      2     24             5   \n",
       "38961   55226         119          0        3      2      1             0   \n",
       "\n",
       "       postId  \n",
       "0        2175  \n",
       "1        8576  \n",
       "2        8578  \n",
       "3        8981  \n",
       "4        8982  \n",
       "...       ...  \n",
       "38957   34003  \n",
       "38958   40667  \n",
       "38959   17461  \n",
       "38960   27237  \n",
       "38961   16176  \n",
       "\n",
       "[38962 rows x 8 columns]"
      ]
     },
     "execution_count": 28,
     "metadata": {},
     "output_type": "execute_result"
    }
   ],
   "source": [
    "#we can see that in merged_tables_isnull we have more than 20 000 missing values in view count\n",
    "#We have around 40000 rows so it is more than significant, we can just drop the view count \n",
    "\n",
    "merged_tables_isnull = merged_tables.isnull().sum() > 0\n",
    "merged_tables = merged_tables.drop(\"ViewCount\", axis=1)\n",
    "merged_tables\n"
   ]
  },
  {
   "cell_type": "markdown",
   "metadata": {},
   "source": [
    "#### 10. Adjust the data types in order to avoid future issues. Which ones should be changed? "
   ]
  },
  {
   "cell_type": "code",
   "execution_count": 44,
   "metadata": {},
   "outputs": [
    {
     "data": {
      "text/plain": [
       "userId          int64\n",
       "Reputation      int64\n",
       "DownVotes       int64\n",
       "UpVotes         int64\n",
       "Views           int64\n",
       "Score           int64\n",
       "CommentCount    int64\n",
       "postId          int64\n",
       "dtype: object"
      ]
     },
     "execution_count": 44,
     "metadata": {},
     "output_type": "execute_result"
    }
   ],
   "source": [
    "merged_tables.dtypes\n",
    "#all the data types are Int64, i dont want to make any changes to datatypes"
   ]
  },
  {
   "cell_type": "code",
   "execution_count": null,
   "metadata": {},
   "outputs": [],
   "source": [
    "#"
   ]
  },
  {
   "cell_type": "code",
   "execution_count": null,
   "metadata": {},
   "outputs": [],
   "source": []
  },
  {
   "cell_type": "code",
   "execution_count": null,
   "metadata": {},
   "outputs": [],
   "source": []
  }
 ],
 "metadata": {
  "kernelspec": {
   "display_name": "Python 3 (ipykernel)",
   "language": "python",
   "name": "python3"
  },
  "language_info": {
   "codemirror_mode": {
    "name": "ipython",
    "version": 3
   },
   "file_extension": ".py",
   "mimetype": "text/x-python",
   "name": "python",
   "nbconvert_exporter": "python",
   "pygments_lexer": "ipython3",
   "version": "3.9.13"
  }
 },
 "nbformat": 4,
 "nbformat_minor": 2
}
